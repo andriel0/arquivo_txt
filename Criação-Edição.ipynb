{
 "cells": [
  {
   "cell_type": "code",
   "execution_count": 5,
   "id": "50ce8bef",
   "metadata": {},
   "outputs": [
    {
     "name": "stdout",
     "output_type": "stream",
     "text": [
      "O número de cadastros orgânicos foram 226\n",
      "O número de cadastros pelo site é de 73\n",
      "O número de cadastros pelo youtube é de 155\n",
      "O número de cadastros pelo instragram é de 24\n",
      "O número de cadastros pelo anúncio é de 274\n"
     ]
    }
   ],
   "source": [
    "site = 0\n",
    "yt = 0\n",
    "ig = 0\n",
    "ads = 0\n",
    "org = 0\n",
    "\n",
    "with open('Alunos.txt', 'r') as arquivo:\n",
    "    arquivo = arquivo.readlines()\n",
    "    del arquivo[:4]\n",
    "    \n",
    "    for i in arquivo:\n",
    "        email, origem = i.split(',')\n",
    "        if '_org' in origem:\n",
    "            org += 1\n",
    "            if 'hashtag_site_org' in origem:\n",
    "                site += 1\n",
    "            if 'hashtag_yt_org' in origem:\n",
    "                yt += 1\n",
    "            if 'hashtag_ig_org' in origem or 'hashtag_igfb_org' in origem:\n",
    "                ig += 1\n",
    "        else:\n",
    "            ads += 1\n",
    "\n",
    "print(f'O número de cadastros orgânicos foram {org}')\n",
    "print(f'O número de cadastros pelo site é de {site}')\n",
    "print(f'O número de cadastros pelo youtube é de {yt}')\n",
    "print(f'O número de cadastros pelo instragram é de {ig}')\n",
    "print(f'O número de cadastros pelo anúncio é de {ads}')\n",
    "\n",
    "arquivo2 = open('Cadastros.txt', 'w')\n",
    "\n",
    "arquivo2.write(f'Alunos: {org + ads}\\nAnúncios: {ads}\\nOrgânico: {org}\\nSite: {site}\\nYoutube: {yt}\\nInstagram ou facebook: {ig}')\n",
    "\n",
    "arquivo2.close()\n"
   ]
  }
 ],
 "metadata": {
  "kernelspec": {
   "display_name": "Python 3 (ipykernel)",
   "language": "python",
   "name": "python3"
  },
  "language_info": {
   "codemirror_mode": {
    "name": "ipython",
    "version": 3
   },
   "file_extension": ".py",
   "mimetype": "text/x-python",
   "name": "python",
   "nbconvert_exporter": "python",
   "pygments_lexer": "ipython3",
   "version": "3.9.12"
  }
 },
 "nbformat": 4,
 "nbformat_minor": 5
}
